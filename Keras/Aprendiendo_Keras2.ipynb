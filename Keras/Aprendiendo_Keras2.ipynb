{
  "nbformat": 4,
  "nbformat_minor": 0,
  "metadata": {
    "colab": {
      "name": "Aprendiendo_Keras2.ipynb",
      "provenance": [],
      "authorship_tag": "ABX9TyOGYq1khEtYsjzc9boM4PZi",
      "include_colab_link": true
    },
    "kernelspec": {
      "name": "python3",
      "display_name": "Python 3"
    }
  },
  "cells": [
    {
      "cell_type": "markdown",
      "metadata": {
        "id": "view-in-github",
        "colab_type": "text"
      },
      "source": [
        "<a href=\"https://colab.research.google.com/github/ncgomez17/Deep_Learning/blob/master/Keras/Aprendiendo_Keras2.ipynb\" target=\"_parent\"><img src=\"https://colab.research.google.com/assets/colab-badge.svg\" alt=\"Open In Colab\"/></a>"
      ]
    },
    {
      "cell_type": "markdown",
      "metadata": {
        "id": "85Aivcco0kim"
      },
      "source": [
        "En este caso programaré el ejemplo de **Aprendiendo_Keras** pero en esta caso usando una red neuronal convolucional en Keras.\r\n",
        "Esta consistirá e una convolución seguida de un max-pooling."
      ]
    },
    {
      "cell_type": "markdown",
      "metadata": {
        "id": "u70fxtSD2D2I"
      },
      "source": [
        "En este caso tendremos **32** filtros usando una ventana de **5x5** para la capa convolucional y una ventana de **2x2** para la capa de pooling.Usaremos la función de activación **ReLU**\r\n",
        "Se configurará para procesar un tensor de entrada de tamaño **(28,28,1)** que es el tamaño de las imágenes **MNIST**"
      ]
    },
    {
      "cell_type": "code",
      "metadata": {
        "colab": {
          "base_uri": "https://localhost:8080/"
        },
        "id": "q8-dslI91UJB",
        "outputId": "82ba8af1-445d-4a25-e49e-35e3a5d027b4"
      },
      "source": [
        "from keras import layers\r\n",
        "from keras import models\r\n",
        "\r\n",
        "model = models.Sequential()\r\n",
        "model.add(layers.Conv2D(32,(5,5),activation='relu',input_shape=(28,28,1)))\r\n",
        "model.add(layers.MaxPooling2D((2,2)))\r\n",
        "model.summary()"
      ],
      "execution_count": 10,
      "outputs": [
        {
          "output_type": "stream",
          "text": [
            "Model: \"sequential_2\"\n",
            "_________________________________________________________________\n",
            "Layer (type)                 Output Shape              Param #   \n",
            "=================================================================\n",
            "conv2d_4 (Conv2D)            (None, 24, 24, 32)        832       \n",
            "_________________________________________________________________\n",
            "max_pooling2d_4 (MaxPooling2 (None, 12, 12, 32)        0         \n",
            "=================================================================\n",
            "Total params: 832\n",
            "Trainable params: 832\n",
            "Non-trainable params: 0\n",
            "_________________________________________________________________\n"
          ],
          "name": "stdout"
        }
      ]
    },
    {
      "cell_type": "markdown",
      "metadata": {
        "id": "7ifhKQI63B9e"
      },
      "source": [
        "Lo siguiente será apilar varias capas como la construida en la sección anterior.En este caso el número de canales de entrada tomará el valor de las **32** características que hemos obtenido en la capa anterior,aunque esto ya lo deduce Keras."
      ]
    },
    {
      "cell_type": "code",
      "metadata": {
        "colab": {
          "base_uri": "https://localhost:8080/"
        },
        "id": "Jd_1MMxd3mlr",
        "outputId": "9a43f7cd-584b-4e97-bc7a-99f01f8a8c18"
      },
      "source": [
        "model.add(layers.Conv2D(64, (5,5),activation='relu'))\r\n",
        "model.add(layers.MaxPooling2D((2,2)))\r\n",
        "model.summary()"
      ],
      "execution_count": 11,
      "outputs": [
        {
          "output_type": "stream",
          "text": [
            "Model: \"sequential_2\"\n",
            "_________________________________________________________________\n",
            "Layer (type)                 Output Shape              Param #   \n",
            "=================================================================\n",
            "conv2d_4 (Conv2D)            (None, 24, 24, 32)        832       \n",
            "_________________________________________________________________\n",
            "max_pooling2d_4 (MaxPooling2 (None, 12, 12, 32)        0         \n",
            "_________________________________________________________________\n",
            "conv2d_5 (Conv2D)            (None, 8, 8, 64)          51264     \n",
            "_________________________________________________________________\n",
            "max_pooling2d_5 (MaxPooling2 (None, 4, 4, 64)          0         \n",
            "=================================================================\n",
            "Total params: 52,096\n",
            "Trainable params: 52,096\n",
            "Non-trainable params: 0\n",
            "_________________________________________________________________\n"
          ],
          "name": "stdout"
        }
      ]
    },
    {
      "cell_type": "markdown",
      "metadata": {
        "id": "0kZE4w_64ard"
      },
      "source": [
        "El siguiente paso será añadir una capa densamente conectada, que servirá para alimentar una capa final de **softmax**\r\n",
        "Tenemos que ajustar los tensores a la entrada de la capa densa, ya que se trata de un tensor de **1D** mientras que la salida anterior es un Tensor de **3D**.Por eso lo primero que se hace es aplanar el tensor de **3D** a uno de **1D**"
      ]
    },
    {
      "cell_type": "code",
      "metadata": {
        "colab": {
          "base_uri": "https://localhost:8080/"
        },
        "id": "XXFiRaHR4sW_",
        "outputId": "8eddd3c9-1ff9-4e02-9f15-c6fea85f6398"
      },
      "source": [
        "model.add(layers.Flatten())\r\n",
        "model.add(layers.Dense(10, activation='softmax'))\r\n",
        "model.summary()"
      ],
      "execution_count": 12,
      "outputs": [
        {
          "output_type": "stream",
          "text": [
            "Model: \"sequential_2\"\n",
            "_________________________________________________________________\n",
            "Layer (type)                 Output Shape              Param #   \n",
            "=================================================================\n",
            "conv2d_4 (Conv2D)            (None, 24, 24, 32)        832       \n",
            "_________________________________________________________________\n",
            "max_pooling2d_4 (MaxPooling2 (None, 12, 12, 32)        0         \n",
            "_________________________________________________________________\n",
            "conv2d_5 (Conv2D)            (None, 8, 8, 64)          51264     \n",
            "_________________________________________________________________\n",
            "max_pooling2d_5 (MaxPooling2 (None, 4, 4, 64)          0         \n",
            "_________________________________________________________________\n",
            "flatten_2 (Flatten)          (None, 1024)              0         \n",
            "_________________________________________________________________\n",
            "dense_3 (Dense)              (None, 10)                10250     \n",
            "=================================================================\n",
            "Total params: 62,346\n",
            "Trainable params: 62,346\n",
            "Non-trainable params: 0\n",
            "_________________________________________________________________\n"
          ],
          "name": "stdout"
        }
      ]
    },
    {
      "cell_type": "markdown",
      "metadata": {
        "id": "BauQrHQm5ug0"
      },
      "source": [
        "Observando el resumen anterior podemos apreciar que en las capas convolucionales es donde se requiere más memoria.En cambio en la capa densamente conectada de **softmax** se necesita poco espacio de memoria.\r\n",
        "Lo siguiente será entrenar el modelo, es decir ajustar los parámetros de todas las capas convolucionales.Tendremos que hacer lo mismo que en **Aprendiendo_Keras**"
      ]
    },
    {
      "cell_type": "code",
      "metadata": {
        "id": "T0P5X_0R6qSl"
      },
      "source": [
        "from keras.datasets import mnist\r\n",
        "from keras.utils import to_categorical\r\n",
        "(train_images,train_labels), (test_images, test_labels) = mnist.load_data()\r\n",
        "\r\n",
        "train_images = train_images.reshape((60000, 28, 28, 1))\r\n",
        "train_images = train_images.astype('float32')/255\r\n",
        "\r\n",
        "test_images = test_images.reshape((10000, 28, 28, 1))\r\n",
        "test_images = test_images.astype('float32')/255\r\n",
        "\r\n",
        "train_labels = to_categorical(train_labels)\r\n",
        "test_labels = to_categorical(test_labels)"
      ],
      "execution_count": 13,
      "outputs": []
    },
    {
      "cell_type": "code",
      "metadata": {
        "colab": {
          "base_uri": "https://localhost:8080/"
        },
        "id": "0pa8tUm47xBl",
        "outputId": "a510213c-bd11-4fae-a053-fad03ed9b70d"
      },
      "source": [
        "model.compile(loss='categorical_crossentropy',\r\n",
        "              optimizer='sgd',\r\n",
        "              metrics=['accuracy'])\r\n",
        "\r\n",
        "model.fit(train_images, train_labels,\r\n",
        "          batch_size=100,\r\n",
        "          epochs=5,\r\n",
        "          verbose=1)\r\n",
        "\r\n",
        "test_loss, test_acc = model.evaluate(test_images, test_labels)\r\n",
        "\r\n",
        "print('Test accuracy:', test_acc)"
      ],
      "execution_count": 14,
      "outputs": [
        {
          "output_type": "stream",
          "text": [
            "Epoch 1/5\n",
            "600/600 [==============================] - 54s 90ms/step - loss: 1.5892 - accuracy: 0.5639\n",
            "Epoch 2/5\n",
            "600/600 [==============================] - 54s 90ms/step - loss: 0.2873 - accuracy: 0.9151\n",
            "Epoch 3/5\n",
            "600/600 [==============================] - 54s 91ms/step - loss: 0.2001 - accuracy: 0.9412\n",
            "Epoch 4/5\n",
            "600/600 [==============================] - 54s 90ms/step - loss: 0.1507 - accuracy: 0.9564\n",
            "Epoch 5/5\n",
            "600/600 [==============================] - 54s 90ms/step - loss: 0.1249 - accuracy: 0.9625\n",
            "313/313 [==============================] - 3s 9ms/step - loss: 0.1096 - accuracy: 0.9666\n",
            "Test accuracy: 0.9666000008583069\n"
          ],
          "name": "stdout"
        }
      ]
    },
    {
      "cell_type": "markdown",
      "metadata": {
        "id": "_aKGy1nJ8kTi"
      },
      "source": [
        "Como podemos observar al ejecutar el entrenamiento este tarda mucho más que el ejemplo que hicimos en **Aprendiendo_Keras**.En esta caso también nos dará más \"poder\" realizar el entrenamiento con una **GPU** y no una **CPU**.\r\n",
        "Cabe destacar que la **accuracy** es bastante más alta que en el otro ejemplo."
      ]
    }
  ]
}