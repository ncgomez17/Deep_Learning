{
  "nbformat": 4,
  "nbformat_minor": 0,
  "metadata": {
    "colab": {
      "name": "Aprendiendo_Keras.ipynb",
      "provenance": [],
      "collapsed_sections": [],
      "authorship_tag": "ABX9TyOU+v6Xy/iSd+WFJrX+waJg",
      "include_colab_link": true
    },
    "kernelspec": {
      "name": "python3",
      "display_name": "Python 3"
    }
  },
  "cells": [
    {
      "cell_type": "markdown",
      "metadata": {
        "id": "view-in-github",
        "colab_type": "text"
      },
      "source": [
        "<a href=\"https://colab.research.google.com/github/ncgomez17/Deep_Learning/blob/master/Keras/Aprendiendo_Keras.ipynb\" target=\"_parent\"><img src=\"https://colab.research.google.com/assets/colab-badge.svg\" alt=\"Open In Colab\"/></a>"
      ]
    },
    {
      "cell_type": "markdown",
      "metadata": {
        "id": "xFpBRAjB_xyP"
      },
      "source": [
        "En este sencillo programa vamos a entrenar una red neuronal para que puede detectar número del 0 al 9.\r\n",
        "Para ello utilizaremos keras y cargaremos el conjunto de datos MNIST.\r\n",
        "Este conjunto de datos se encuentra precargado en forma de cuatro arrays Numpy y se pueden obtener con el siguiente código."
      ]
    },
    {
      "cell_type": "code",
      "metadata": {
        "colab": {
          "base_uri": "https://localhost:8080/"
        },
        "id": "-ncVqtTC-5OB",
        "outputId": "525ef5e0-2247-4d6c-8c62-8c4569e275a4"
      },
      "source": [
        "import keras\r\n",
        "print(keras.__version__)\r\n",
        "from keras.datasets import mnist\r\n",
        "(x_train,y_train),(x_test,y_test) = mnist.load_data()"
      ],
      "execution_count": 1,
      "outputs": [
        {
          "output_type": "stream",
          "text": [
            "2.4.3\n",
            "Downloading data from https://storage.googleapis.com/tensorflow/tf-keras-datasets/mnist.npz\n",
            "11493376/11490434 [==============================] - 0s 0us/step\n"
          ],
          "name": "stdout"
        }
      ]
    },
    {
      "cell_type": "markdown",
      "metadata": {
        "id": "cFCa-Nb-AfBo"
      },
      "source": [
        "Vamos a comprobar los valores que hemos cargado, por ejemplo la imagen 8:"
      ]
    },
    {
      "cell_type": "code",
      "metadata": {
        "colab": {
          "base_uri": "https://localhost:8080/",
          "height": 282
        },
        "id": "fg_KrV4KAnjI",
        "outputId": "27dbd6a1-cbe2-492e-b57f-a70d25f764ed"
      },
      "source": [
        "import matplotlib.pyplot as plt\r\n",
        "plt.imshow(x_train[8], cmap=plt.cm.binary)"
      ],
      "execution_count": 2,
      "outputs": [
        {
          "output_type": "execute_result",
          "data": {
            "text/plain": [
              "<matplotlib.image.AxesImage at 0x7fbd3c5aa550>"
            ]
          },
          "metadata": {
            "tags": []
          },
          "execution_count": 2
        },
        {
          "output_type": "display_data",
          "data": {
            "image/png": "[encoded data removed]",
            "text/plain": [
              "<Figure size 432x288 with 1 Axes>"
            ]
          },
          "metadata": {
            "tags": [],
            "needs_background": "light"
          }
        }
      ]
    },
    {
      "cell_type": "markdown",
      "metadata": {
        "id": "3A6FxoipA7ZZ"
      },
      "source": [
        "Miramos su correspondiente etiqueta:"
      ]
    },
    {
      "cell_type": "code",
      "metadata": {
        "colab": {
          "base_uri": "https://localhost:8080/"
        },
        "id": "n-VkESz_A-Rw",
        "outputId": "07b284fa-b105-4dfa-d5f8-16e9edac5262"
      },
      "source": [
        "print(y_train[9])"
      ],
      "execution_count": 3,
      "outputs": [
        {
          "output_type": "stream",
          "text": [
            "4\n"
          ],
          "name": "stdout"
        }
      ]
    },
    {
      "cell_type": "markdown",
      "metadata": {
        "id": "UpPvWZkwBJZh"
      },
      "source": [
        "Como podemos observar Keras utiliza un arraymultidimensional de Numpy como estructura básica de datos, esta estructura se llama tensor.\r\n",
        "Un tensor tiene tres atributos principales:\r\n",
        "*   Numero de ejes(Rank): un tensor con un solo número será 0-dimensional, con un array 1-dimensional, conuna matriz 2-dimensional, y así sucensivamente.\r\n",
        "*   Forma(shape):se trata de una tupla de enteros que describen cuantas dimensiones tiene el tensor en cada eje.\r\n",
        "*   Tipo de datos(data type):este atributo indica el tipo de datos que tiene el tensor.\r\n",
        "\r\n",
        "**Lo siguiente que haremos será obtener los atributos anteriores a partir del tensor de nuestro ejemplo**\r\n",
        "\r\n",
        "\r\n",
        "\r\n"
      ]
    },
    {
      "cell_type": "code",
      "metadata": {
        "colab": {
          "base_uri": "https://localhost:8080/"
        },
        "id": "aJFkEC7bCu2E",
        "outputId": "b1f8bcd3-1278-47bb-f6e4-770d9f851cca"
      },
      "source": [
        "print(x_train.ndim)\r\n",
        "print(x_train.shape)\r\n",
        "print(x_train.dtype)"
      ],
      "execution_count": 4,
      "outputs": [
        {
          "output_type": "stream",
          "text": [
            "3\n",
            "(60000, 28, 28)\n",
            "uint8\n"
          ],
          "name": "stdout"
        }
      ]
    },
    {
      "cell_type": "markdown",
      "metadata": {
        "id": "dyJkIhpKDF6B"
      },
      "source": [
        "Estas imágenes de 28x28 px representan números en el rango [0,255].Lo más habitual es escalar los valores de entrada de las redes neuronales a unos rangos determinados.En este caso comviene escalarlos a valores de tipo float32 dentro del intervalor [0,1]."
      ]
    },
    {
      "cell_type": "code",
      "metadata": {
        "id": "4SrYpsRuDjr6"
      },
      "source": [
        "x_train = x_train.astype('float32')\r\n",
        "x_test = x_test.astype('float32')\r\n",
        "x_train /= 255\r\n",
        "x_test /= 255"
      ],
      "execution_count": 5,
      "outputs": []
    },
    {
      "cell_type": "markdown",
      "metadata": {
        "id": "AVNbONgaEE7o"
      },
      "source": [
        "Para facilitar la entrada de datos a nuestra red neuronal(**En redes convolucionales no hace falta** ) debemos hacer una transformación del tensor(**imagen**) de 2 dimensiones a un vector de 1 dimensión.\r\n",
        "Teniendo en cuenta esto la matriz 28x28 de cada imagen se puede representar con un vector de 784 números,que es lo que haremos a continuación."
      ]
    },
    {
      "cell_type": "code",
      "metadata": {
        "colab": {
          "base_uri": "https://localhost:8080/"
        },
        "id": "cgWy8ZRwEzpF",
        "outputId": "c44d31cd-20ea-44a2-cf45-951cd0b33c67"
      },
      "source": [
        "x_train = x_train.reshape(60000, 784)\r\n",
        "x_test = x_test.reshape(10000, 784)\r\n",
        "print(x_train.shape)\r\n",
        "print(x_test.shape)"
      ],
      "execution_count": 6,
      "outputs": [
        {
          "output_type": "stream",
          "text": [
            "(60000, 784)\n",
            "(10000, 784)\n"
          ],
          "name": "stdout"
        }
      ]
    },
    {
      "cell_type": "markdown",
      "metadata": {
        "id": "_byl5jtIFd0x"
      },
      "source": [
        "Las etiquetas para cada dato de entrada son números de 0 a 9 que índican el dígito que representa la imagen.En este ejemplo vamos representar esta etiqueta con un vector de 10 posiciones,donde la posición correspondiente al dígito que representa la imagen contiene un 1 y el resto de posiciones del vector tendrán valor 0.**Usaremos lo que se conoce como **[one-hot encoding](https://hackernoon.com/what-is-one-hot-encoding-why-and-when-do-you-have-to-use-it-e3c6186d008f)\r\n",
        "Para realizar esta transformación usaremos la función to_categorical de keras.utils"
      ]
    },
    {
      "cell_type": "code",
      "metadata": {
        "id": "ltBPEOehGu2o"
      },
      "source": [
        "from keras.utils import to_categorical"
      ],
      "execution_count": 7,
      "outputs": []
    },
    {
      "cell_type": "markdown",
      "metadata": {
        "id": "YKJx9hW0G1pT"
      },
      "source": [
        "Ahora mostraremos los valores antes de aplicarse la transformación"
      ]
    },
    {
      "cell_type": "code",
      "metadata": {
        "colab": {
          "base_uri": "https://localhost:8080/"
        },
        "id": "UaWOamssG6iu",
        "outputId": "3e064d6d-284c-4729-e52e-be4967bb9fac"
      },
      "source": [
        "print(y_test[0])\r\n",
        "print(y_train[0])\r\n",
        "print(y_train.shape)\r\n",
        "print(x_test.shape)"
      ],
      "execution_count": 8,
      "outputs": [
        {
          "output_type": "stream",
          "text": [
            "7\n",
            "5\n",
            "(60000,)\n",
            "(10000, 784)\n"
          ],
          "name": "stdout"
        }
      ]
    },
    {
      "cell_type": "code",
      "metadata": {
        "colab": {
          "base_uri": "https://localhost:8080/"
        },
        "id": "XMj1jzBfHNsF",
        "outputId": "64f0066f-b472-423b-b35e-b00b97649e0c"
      },
      "source": [
        "## Aplicamos la transformación\r\n",
        "y_train = keras.utils.to_categorical(y_train, num_classes=10)\r\n",
        "y_test = keras.utils.to_categorical(y_test, num_classes=10)\r\n",
        "print(y_test[0])\r\n",
        "print(y_train[0])\r\n",
        "print(y_train.shape)\r\n",
        "print(y_test.shape)"
      ],
      "execution_count": 9,
      "outputs": [
        {
          "output_type": "stream",
          "text": [
            "[0. 0. 0. 0. 0. 0. 0. 1. 0. 0.]\n",
            "[0. 0. 0. 0. 0. 1. 0. 0. 0. 0.]\n",
            "(60000, 10)\n",
            "(10000, 10)\n"
          ],
          "name": "stdout"
        }
      ]
    },
    {
      "cell_type": "markdown",
      "metadata": {
        "id": "99pp9TNRIBij"
      },
      "source": [
        "Ahora ya tenemos los datos preparados para ser usados.Lo siguiente que haremos será crear con Keras la clase *Sequential*que permite la creación de una red neuronal básica."
      ]
    },
    {
      "cell_type": "code",
      "metadata": {
        "id": "3hrMVkMIIoRx"
      },
      "source": [
        "from keras.models import Sequential\r\n",
        "from keras.layers.core import Dense, Activation\r\n",
        "from keras.optimizers import SGD\r\n",
        "model = Sequential()\r\n",
        "model.add(Dense(10, activation='sigmoid', input_shape=(784,)))\r\n",
        "model.add(Dense(10, activation='softmax'))"
      ],
      "execution_count": 10,
      "outputs": []
    },
    {
      "cell_type": "markdown",
      "metadata": {
        "id": "wKCL0mj-Jh3W"
      },
      "source": [
        "Como podemos observar, en el ejemplo hemos definido la red neuronal como una secuencia de dos capas que están densamente conectadas."
      ]
    },
    {
      "cell_type": "code",
      "metadata": {
        "colab": {
          "base_uri": "https://localhost:8080/"
        },
        "id": "3sdWNtp7KFIJ",
        "outputId": "5352a94d-49d5-4fdd-b5af-35867869cfb6"
      },
      "source": [
        "## Observamos la arquitectura de nuestro modelo\r\n",
        "\r\n",
        "model.summary()"
      ],
      "execution_count": 11,
      "outputs": [
        {
          "output_type": "stream",
          "text": [
            "Model: \"sequential\"\n",
            "_________________________________________________________________\n",
            "Layer (type)                 Output Shape              Param #   \n",
            "=================================================================\n",
            "dense (Dense)                (None, 10)                7850      \n",
            "_________________________________________________________________\n",
            "dense_1 (Dense)              (None, 10)                110       \n",
            "=================================================================\n",
            "Total params: 7,960\n",
            "Trainable params: 7,960\n",
            "Non-trainable params: 0\n",
            "_________________________________________________________________\n"
          ],
          "name": "stdout"
        }
      ]
    },
    {
      "cell_type": "markdown",
      "metadata": {
        "id": "jB4jSLneKlvq"
      },
      "source": [
        "Vamos explicar el resultado anterior obtenido.\r\n",
        "La primera capa requiere 7850 parámetros(784x10) para almacenar los pesos de las 10 neuronas, además de los 10 parámetros adicionales para los sesgos.\r\n",
        "En la segunda capa al ser una función *softmax* se requiere conectar todos sus nodos con los 10 nodos de la capa anterior, y por lo tanto se requieren 10x10 parametros además de los correspondientes 10 sesgos correspondientes a cada nodo."
      ]
    },
    {
      "cell_type": "markdown",
      "metadata": {
        "id": "wyBjVp4bLw7_"
      },
      "source": [
        "El método *compile()* nos permitirá configurar como será nuestro modelo de aprendizaje.\r\n",
        "Argumentos de la función como **loss** nos permitirá evaluar el grado de error entre las salidas calculadas y las salidas deseadas de los datos de entrenamiento.\r\n",
        "Otro argumento es el **optimizador**, que es el que nos proporciona la manera de especificar el algoritmo de optimización, que permite a la red neuronal calcular los pesos de los parámetros a partir de los datos de entrada y de la función de loss definida.\r\n",
        "Finalmente el último argumento es la **métrica** que utilizaremos para monitorizar el proceso de aprendizaje de nuestra red neuronal.En este ejemplo solo tendremos en cuenta accuracy(fracción de imágenes que son correctamente clasificadas)\r\n"
      ]
    },
    {
      "cell_type": "code",
      "metadata": {
        "colab": {
          "base_uri": "https://localhost:8080/"
        },
        "id": "dsDYR2tkNSdK",
        "outputId": "d1988757-a310-4af1-8ad0-dd3026635196"
      },
      "source": [
        "## El optimizador usado es el stocastic gradient descent\r\n",
        "model.compile(loss=\"categorical_crossentropy\", optimizer=\"sgd\",metrics = ['accuracy'])\r\n",
        "model.fit(x_train,y_train, batch_size=100,epochs=10,verbose=1)"
      ],
      "execution_count": 16,
      "outputs": [
        {
          "output_type": "stream",
          "text": [
            "Epoch 1/10\n",
            "600/600 [==============================] - 1s 1ms/step - loss: 1.1690 - accuracy: 0.7163\n",
            "Epoch 2/10\n",
            "600/600 [==============================] - 1s 1ms/step - loss: 1.0734 - accuracy: 0.7344\n",
            "Epoch 3/10\n",
            "600/600 [==============================] - 1s 1ms/step - loss: 0.9936 - accuracy: 0.7501\n",
            "Epoch 4/10\n",
            "600/600 [==============================] - 1s 1ms/step - loss: 0.9340 - accuracy: 0.7662\n",
            "Epoch 5/10\n",
            "600/600 [==============================] - 1s 1ms/step - loss: 0.8809 - accuracy: 0.7729\n",
            "Epoch 6/10\n",
            "600/600 [==============================] - 1s 1ms/step - loss: 0.8318 - accuracy: 0.7862\n",
            "Epoch 7/10\n",
            "600/600 [==============================] - 1s 1ms/step - loss: 0.7992 - accuracy: 0.7913\n",
            "Epoch 8/10\n",
            "600/600 [==============================] - 1s 1ms/step - loss: 0.7623 - accuracy: 0.8009\n",
            "Epoch 9/10\n",
            "600/600 [==============================] - 1s 1ms/step - loss: 0.7327 - accuracy: 0.8080\n",
            "Epoch 10/10\n",
            "600/600 [==============================] - 1s 1ms/step - loss: 0.7063 - accuracy: 0.8147\n"
          ],
          "name": "stdout"
        },
        {
          "output_type": "execute_result",
          "data": {
            "text/plain": [
              "<tensorflow.python.keras.callbacks.History at 0x7fbd35001cd0>"
            ]
          },
          "metadata": {
            "tags": []
          },
          "execution_count": 16
        }
      ]
    },
    {
      "cell_type": "markdown",
      "metadata": {
        "id": "PT4qOh47u0GK"
      },
      "source": [
        "Ahora que ya hemos realizado en el entrenamiento evaluaremos como se comporta con datos nuevos de prueba"
      ]
    },
    {
      "cell_type": "code",
      "metadata": {
        "colab": {
          "base_uri": "https://localhost:8080/"
        },
        "id": "x5HngrZju-Vp",
        "outputId": "0f019057-1ff9-49a6-847a-907390213c6d"
      },
      "source": [
        "test_loss, test_acc = model.evaluate(x_test, y_test)\r\n",
        "print('Test accurancy',test_acc)"
      ],
      "execution_count": 17,
      "outputs": [
        {
          "output_type": "stream",
          "text": [
            "313/313 [==============================] - 0s 768us/step - loss: 0.6751 - accuracy: 0.8240\n",
            "Test accurancy 0.8240000009536743\n"
          ],
          "name": "stdout"
        }
      ]
    },
    {
      "cell_type": "markdown",
      "metadata": {
        "id": "E3CwTQg1vg-4"
      },
      "source": [
        "Esto nos indica que el modelo que hemos creado clasifica correctamente el 82.4% de los datos correctamente.\r\n",
        "En el siguinete paso usaremos el modelo creado para realizar predicciones sobre que dígito representan nuevas imágenes, para esto eligiremos un elemento de x_test"
      ]
    },
    {
      "cell_type": "code",
      "metadata": {
        "colab": {
          "base_uri": "https://localhost:8080/",
          "height": 299
        },
        "id": "pgJ7f0_4xgb-",
        "outputId": "45a43b19-9093-4c40-df47-c5af7ecc0242"
      },
      "source": [
        "## Observamos el número del que se trata y hacemos la predicción\r\n",
        "import numpy as np\r\n",
        "(x_train2,y_train2),(x_test2,y_test2) = mnist.load_data()\r\n",
        "plt.imshow(x_test2[11], cmap=plt.cm.binary)\r\n",
        "predictions = model.predict(x_test)\r\n",
        "print(np.argmax(predictions[11]))\r\n",
        "print(np.sum(predictions[11]))"
      ],
      "execution_count": 24,
      "outputs": [
        {
          "output_type": "stream",
          "text": [
            "6\n",
            "1.0\n"
          ],
          "name": "stdout"
        },
        {
          "output_type": "display_data",
          "data": {
            "image/png": "[encoded data removed]",
            "text/plain": [
              "<Figure size 432x288 with 1 Axes>"
            ]
          },
          "metadata": {
            "tags": [],
            "needs_background": "light"
          }
        }
      ]
    },
    {
      "cell_type": "markdown",
      "metadata": {
        "id": "zGnh7wqa0-Je"
      },
      "source": [
        "Lo siguiente que haremos será mostrar la matriz de confusión, el código se ha sacado de la web de SKLEARN."
      ]
    },
    {
      "cell_type": "code",
      "metadata": {
        "id": "fcwIuwYd1H1X"
      },
      "source": [
        "\r\n",
        "# Look at confusion matrix \r\n",
        "#Note, this code is taken straight from the SKLEARN website, an nice way of viewing confusion matrix.\r\n",
        "def plot_confusion_matrix(cm, classes,\r\n",
        "                          normalize=False,\r\n",
        "                          title='Confusion matrix',\r\n",
        "                          cmap=plt.cm.Blues):\r\n",
        "    \"\"\"\r\n",
        "    This function prints and plots the confusion matrix.\r\n",
        "    Normalization can be applied by setting `normalize=True`.\r\n",
        "    \"\"\"\r\n",
        "    plt.imshow(cm, interpolation='nearest', cmap=cmap)\r\n",
        "    plt.title(title)\r\n",
        "    plt.colorbar()\r\n",
        "    tick_marks = np.arange(len(classes))\r\n",
        "    plt.xticks(tick_marks, classes, rotation=45)\r\n",
        "    plt.yticks(tick_marks, classes)\r\n",
        "\r\n",
        "    if normalize:\r\n",
        "        cm = cm.astype('float') / cm.sum(axis=1)[:, np.newaxis]\r\n",
        "\r\n",
        "    thresh = cm.max() / 2.\r\n",
        "    for i, j in itertools.product(range(cm.shape[0]), range(cm.shape[1])):\r\n",
        "        plt.text(j, i, cm[i, j],\r\n",
        "                 horizontalalignment=\"center\",\r\n",
        "                 color=\"white\" if cm[i, j] > thresh else \"black\")\r\n",
        "\r\n",
        "    plt.tight_layout()\r\n",
        "    plt.ylabel('Observación')\r\n",
        "    plt.xlabel('Predicción')"
      ],
      "execution_count": 25,
      "outputs": []
    },
    {
      "cell_type": "code",
      "metadata": {
        "colab": {
          "base_uri": "https://localhost:8080/",
          "height": 311
        },
        "id": "GdZ8HOUE1NUF",
        "outputId": "17081220-401f-402f-c7c7-5b1ed11bedc1"
      },
      "source": [
        "\r\n",
        "from collections import Counter\r\n",
        "from sklearn.metrics import confusion_matrix\r\n",
        "import itertools\r\n",
        "\r\n",
        "# Predict the values from the validation dataset\r\n",
        "Y_pred = model.predict(x_test)\r\n",
        "# Convert predictions classes to one hot vectors \r\n",
        "Y_pred_classes = np.argmax(Y_pred, axis = 1) \r\n",
        "# Convert validation observations to one hot vectors\r\n",
        "Y_true = np.argmax(y_test, axis = 1) \r\n",
        "# compute the confusion matrix\r\n",
        "confusion_mtx = confusion_matrix(Y_true, Y_pred_classes) \r\n",
        "# plot the confusion matrix\r\n",
        "plot_confusion_matrix(confusion_mtx, classes = range(10))"
      ],
      "execution_count": 26,
      "outputs": [
        {
          "output_type": "display_data",
          "data": {
            "image/png": "[encoded data removed]",
            "text/plain": [
              "<Figure size 432x288 with 2 Axes>"
            ]
          },
          "metadata": {
            "tags": [],
            "needs_background": "light"
          }
        }
      ]
    }
  ]
}